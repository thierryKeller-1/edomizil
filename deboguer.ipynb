{
 "cells": [
  {
   "cell_type": "code",
   "execution_count": 1,
   "metadata": {},
   "outputs": [],
   "source": [
    "import pandas as pd\n",
    "from nested_lookup import nested_lookup\n",
    "import json\n",
    "from urllib.parse import urlparse, parse_qs\n",
    "\n"
   ]
  },
  {
   "cell_type": "code",
   "execution_count": 2,
   "metadata": {},
   "outputs": [
    {
     "data": {
      "text/plain": [
       "[{'id': '5460aeabb3b30', ' name': ' Valais'},\n",
       " {'id': '5460aeabb3b30', ' name': ' Sorate'}]"
      ]
     },
     "execution_count": 2,
     "metadata": {},
     "output_type": "execute_result"
    }
   ],
   "source": [
    "df = pd.read_csv('./configs/edomizil/destination_ids.csv')\n",
    "df.to_dict(orient='records')"
   ]
  },
  {
   "cell_type": "code",
   "execution_count": null,
   "metadata": {},
   "outputs": [],
   "source": [
    "def format_detail_url(url:str) -> str | None:\n",
    "    base_url = \"https://www.e-domizil.ch\"\n",
    "\n",
    "    def url_format_valid() -> bool:\n",
    "        required_params = [\n",
    "                            'arrival','clickId','directId',\n",
    "                            'duration','id','isHotel',\n",
    "                            'location','pCon','pricetype',\n",
    "                            'prodName','prodSource','sT',\n",
    "                            'screen','searchId','timestamp'\n",
    "                        ]\n",
    "        url_params = list(parse_qs(urlparse(base_url+ url).query).keys()).sort()\n",
    "\n",
    "        return required_params == url_params\n",
    "    \n",
    "    if url_format_valid(url):\n",
    "        return base_url + url \n",
    "    return None"
   ]
  },
  {
   "cell_type": "markdown",
   "metadata": {},
   "source": [
    "#url format\n",
    "id_hotel?\n",
    "duration&\n",
    "location&\n",
    "arrival&\n",
    "pricetype&\n",
    "timestamp&\n",
    "id&\n",
    "searchId&\n",
    "screen&\n",
    "isHotel&\n",
    "clickId&\n",
    "sT&pCon&\n",
    "prodName&\n",
    "prodSource&\n",
    "directId\""
   ]
  },
  {
   "cell_type": "code",
   "execution_count": 3,
   "metadata": {},
   "outputs": [],
   "source": [
    "from selenium import webdriver\n",
    "from selenium.webdriver.common.by import By\n",
    "from selenium.webdriver.support.ui import WebDriverWait\n",
    "from selenium.webdriver.support import expected_conditions as EC\n",
    "from webdriver_manager.chrome import ChromeDriverManager\n",
    "from webdriver_manager.firefox import GeckoDriverManager\n",
    "from selenium.webdriver.chrome.service import Service as ChromeService\n",
    "from selenium.webdriver.firefox.service import Service as FirefoxService\n",
    "import pandas as pd \n",
    "import re, os, time, csv\n",
    "from datetime import datetime, timedelta\n",
    "from bs4 import BeautifulSoup\n",
    "from urllib.parse import urlparse, parse_qs\n",
    "from random import randint"
   ]
  },
  {
   "cell_type": "code",
   "execution_count": 4,
   "metadata": {},
   "outputs": [],
   "source": [
    "url = \"https://www.e-domizil.ch/rental/004498214a97b35c50da971f2c927a90?duration=7&location=5460aeabb3b30&arrival=2023-10-28&pricetype=totalPrice&timestamp=2023-10-24T14%3A42%3A30%2B02%3A00&id=1945116e20aec4ed&directId=004498214a97b35c50da971f2c927a90&searchId=e3ffefbabcb72866&screen=search&isHotel=0&clickId=3J8ZV2CD46QL5VSH&sT=withDates&pCon=970%7CEUR%7C2023-10-28%7C7%7C2%7C1698151350%7C0%7C0%7C1698151350%7C2%7C0%7C0%7C95%7C1306%7C0&prodName=JM&prodSource=Search\""
   ]
  },
  {
   "cell_type": "code",
   "execution_count": 5,
   "metadata": {},
   "outputs": [],
   "source": [
    "url2 = \"https://www.e-domizil.ch/rental/0be4b0c36369c301b44958e6703238c5?c=EUR&clickId=V6D5QZQY20D62Q1P&hl=fr_CH&isHotel=0&location=5460aeabb3b30&pricetype=totalPrice&prodName=JM&prodSource=Search&sT=withDates&screen=search&searchId=f17cee4c389fa81a&serpAvl=booked&timestamp=2023-10-20T17%3A05%3A48%2B02%3A00&expand=1%2C2%2C3&offers=0be4b0c36369c301b44958e6703238c5&arrival=2023-11-11&duration=7&adults=2&bedrooms=0&pets=0&isExtrasTouched=0&pageType=details\""
   ]
  },
  {
   "cell_type": "code",
   "execution_count": 9,
   "metadata": {},
   "outputs": [
    {
     "data": {
      "text/plain": [
       "['duration',\n",
       " 'location',\n",
       " 'arrival',\n",
       " 'pricetype',\n",
       " 'timestamp',\n",
       " 'id',\n",
       " 'directId',\n",
       " 'searchId',\n",
       " 'screen',\n",
       " 'isHotel',\n",
       " 'clickId',\n",
       " 'sT',\n",
       " 'pCon',\n",
       " 'prodName',\n",
       " 'prodSource']"
      ]
     },
     "execution_count": 9,
     "metadata": {},
     "output_type": "execute_result"
    }
   ],
   "source": [
    "list(parse_qs(urlparse(url).query).keys())"
   ]
  },
  {
   "cell_type": "code",
   "execution_count": 30,
   "metadata": {},
   "outputs": [
    {
     "data": {
      "text/plain": [
       "['c',\n",
       " 'clickId',\n",
       " 'hl',\n",
       " 'isHotel',\n",
       " 'location',\n",
       " 'pricetype',\n",
       " 'prodName',\n",
       " 'prodSource',\n",
       " 'sT',\n",
       " 'screen',\n",
       " 'searchId',\n",
       " 'serpAvl',\n",
       " 'timestamp',\n",
       " 'expand',\n",
       " 'offers',\n",
       " 'arrival',\n",
       " 'duration',\n",
       " 'adults',\n",
       " 'bedrooms',\n",
       " 'pets',\n",
       " 'isExtrasTouched',\n",
       " 'pageType']"
      ]
     },
     "execution_count": 30,
     "metadata": {},
     "output_type": "execute_result"
    }
   ],
   "source": [
    "list(parse_qs(urlparse(url2).query).keys())"
   ]
  },
  {
   "cell_type": "code",
   "execution_count": 6,
   "metadata": {},
   "outputs": [],
   "source": [
    "chrome_options = webdriver.ChromeOptions()\n",
    "chrome_options.add_argument('--ignore-certificate-errors')\n",
    "chrome_options.add_argument('--disable-gpu')\n",
    "# firefox_options.add_argument('--headless')\n",
    "chrome_options.add_argument('--incognito')"
   ]
  },
  {
   "cell_type": "code",
   "execution_count": 7,
   "metadata": {},
   "outputs": [],
   "source": [
    "driver = webdriver.Chrome( options=chrome_options)\n",
    "driver.maximize_window()"
   ]
  },
  {
   "cell_type": "code",
   "execution_count": 8,
   "metadata": {},
   "outputs": [],
   "source": [
    "def normalize_url(url:str) -> str:\n",
    "    url_params = list(parse_qs(urlparse(url).query).keys())\n",
    "    if 'c' in url_params and 'hl' in url_params:\n",
    "        return url \n",
    "    else:\n",
    "        if 'c' not in url_params:\n",
    "            url += '&c=EUR'\n",
    "        if 'hl' not in url_params:\n",
    "            url += '&hl=fr_CH'\n",
    "        return url"
   ]
  },
  {
   "cell_type": "code",
   "execution_count": 9,
   "metadata": {},
   "outputs": [
    {
     "data": {
      "text/plain": [
       "'https://www.e-domizil.ch/rental/0be4b0c36369c301b44958e6703238c5?c=EUR&clickId=V6D5QZQY20D62Q1P&hl=fr_CH&isHotel=0&location=5460aeabb3b30&pricetype=totalPrice&prodName=JM&prodSource=Search&sT=withDates&screen=search&searchId=f17cee4c389fa81a&serpAvl=booked&timestamp=2023-10-20T17%3A05%3A48%2B02%3A00&expand=1%2C2%2C3&offers=0be4b0c36369c301b44958e6703238c5&arrival=2023-11-11&duration=7&adults=2&bedrooms=0&pets=0&isExtrasTouched=0&pageType=details'"
      ]
     },
     "execution_count": 9,
     "metadata": {},
     "output_type": "execute_result"
    }
   ],
   "source": [
    "normalize_url(url2)"
   ]
  },
  {
   "cell_type": "code",
   "execution_count": 10,
   "metadata": {},
   "outputs": [],
   "source": [
    "driver.get(normalize_url(url2))"
   ]
  },
  {
   "cell_type": "code",
   "execution_count": 11,
   "metadata": {},
   "outputs": [],
   "source": [
    "def soupify(element:str) -> object:\n",
    "    from bs4 import BeautifulSoup\n",
    "    return BeautifulSoup(element, 'lxml')"
   ]
  },
  {
   "cell_type": "code",
   "execution_count": 12,
   "metadata": {},
   "outputs": [],
   "source": [
    "info_container = driver.find_element(By.XPATH, \"//div[@data-test='rental-sidebar']\").get_attribute('innerHTML')"
   ]
  },
  {
   "cell_type": "code",
   "execution_count": 13,
   "metadata": {},
   "outputs": [],
   "source": [
    "info_cleaned = soupify(info_container)"
   ]
  },
  {
   "cell_type": "code",
   "execution_count": 14,
   "metadata": {},
   "outputs": [
    {
     "data": {
      "text/plain": [
       "['df',\n",
       " 'jcsb',\n",
       " 'aic',\n",
       " 'text-medium',\n",
       " 'ph16',\n",
       " 'fxg1',\n",
       " 'rows>m4',\n",
       " 'bg-success-super-light',\n",
       " 'c-success-normal',\n",
       " 'test-available-badge',\n",
       " 'txt-strong',\n",
       " 'bdrsm',\n",
       " 'pt8',\n",
       " 'pb16']"
      ]
     },
     "execution_count": 14,
     "metadata": {},
     "output_type": "execute_result"
    }
   ],
   "source": [
    "info_cleaned.find('div', {'data-test':\"available-badge\"})['class']"
   ]
  },
  {
   "cell_type": "code",
   "execution_count": 15,
   "metadata": {},
   "outputs": [
    {
     "data": {
      "text/plain": [
       "['2023-11-11']"
      ]
     },
     "execution_count": 15,
     "metadata": {},
     "output_type": "execute_result"
    }
   ],
   "source": [
    "parse_qs(urlparse(driver.current_url).query)['arrival']"
   ]
  },
  {
   "cell_type": "code",
   "execution_count": 16,
   "metadata": {},
   "outputs": [
    {
     "name": "stdout",
     "output_type": "stream",
     "text": [
      "{'date_scrap': '03/11/2023', 'date_debut': '11/11/2023', 'date_fin': '18/11/2023', 'price': '678.91', 'identifiant': 'H49W6MH', 'typologie': '30 m² Appartement ∙ 1 chambre ∙ 2 personnes', 'location': 'Loèche-les-Bains - Valais'}\n"
     ]
    }
   ],
   "source": [
    "if info_cleaned.find('div', {'data-test':\"available-badge\"}) and 'bg-success-super-light' in info_cleaned.find('div', {'data-test':\"available-badge\"})['class']:\n",
    "    identifiant = info_cleaned.find('div', {'class':\"bdtlrsm bdtrrsm bgc-gray-extra-light c-gray-dark pv4 tac text-small\"}).find_all('span')[-1].text.strip()\n",
    "    typologie = info_cleaned.find('div', {'class':\"text-overflow text-small txt-strong\"}).text.strip()\n",
    "    location = info_cleaned.find('div', {'class':\"rows>m4\"}).text.strip().split('personnes')[-1].replace(',', ' -')\n",
    "    price = info_cleaned.find('div', {'class':\"heading-medium\"}).text.strip()[1:]\n",
    "    arrival_date = datetime.strptime(parse_qs(urlparse(driver.current_url).query)['arrival'][0], \"%Y-%m-%d\").strftime(\"%d/%m/%Y\")\n",
    "    data = {\n",
    "        'date_scrap': datetime.now().strftime(\"%d/%m/%Y\"),\n",
    "        'date_debut': arrival_date,\n",
    "        'date_fin': (datetime.strptime(arrival_date, \"%d/%m/%Y\") + timedelta(days=7)).strftime(\"%d/%m/%Y\"),\n",
    "        'price': price,\n",
    "        'identifiant': identifiant,\n",
    "        'typologie': typologie,\n",
    "        'location': location\n",
    "    }\n",
    "    print(data)\n"
   ]
  },
  {
   "cell_type": "code",
   "execution_count": 6,
   "metadata": {},
   "outputs": [
    {
     "data": {
      "text/plain": [
       "'23_10_2023'"
      ]
     },
     "execution_count": 6,
     "metadata": {},
     "output_type": "execute_result"
    }
   ],
   "source": [
    "from datetime import datetime, timedelta\n",
    "monday = datetime.now() - timedelta(days = datetime.now().weekday())\n",
    "monday.strftime(\"%d_%m_%Y\")"
   ]
  },
  {
   "cell_type": "code",
   "execution_count": null,
   "metadata": {},
   "outputs": [],
   "source": [
    "import json \n",
    "item = \"\"\n",
    "with open('./static/edomizil/23_10_2023/responses.json', 'r') as openfile:\n",
    "    content = json.loads(openfile.read())\n",
    "    print(content)\n",
    "    "
   ]
  },
  {
   "cell_type": "code",
   "execution_count": 7,
   "metadata": {},
   "outputs": [
    {
     "data": {
      "text/plain": [
       "5"
      ]
     },
     "execution_count": 7,
     "metadata": {},
     "output_type": "execute_result"
    }
   ],
   "source": [
    "from datetime import datetime, timedelta\n",
    "\n",
    "\n",
    "datetime.strptime('2023-10-28', \"%Y-%m-%d\").weekday()"
   ]
  }
 ],
 "metadata": {
  "kernelspec": {
   "display_name": "venv",
   "language": "python",
   "name": "python3"
  },
  "language_info": {
   "codemirror_mode": {
    "name": "ipython",
    "version": 3
   },
   "file_extension": ".py",
   "mimetype": "text/x-python",
   "name": "python",
   "nbconvert_exporter": "python",
   "pygments_lexer": "ipython3",
   "version": "3.10.12"
  }
 },
 "nbformat": 4,
 "nbformat_minor": 2
}
